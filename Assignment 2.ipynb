{
 "cells": [
  {
   "cell_type": "markdown",
   "id": "c035649c",
   "metadata": {},
   "source": [
    "## TASK 2\n",
    "##  REFERRAL CODE: SIRSS2247\n",
    "## NAME-VATAN GUPTA"
   ]
  },
  {
   "cell_type": "markdown",
   "id": "71080ec8",
   "metadata": {},
   "source": [
    "Q1. Write a lambda expression to extract first word of a string"
   ]
  },
  {
   "cell_type": "code",
   "execution_count": 17,
   "id": "0155a034",
   "metadata": {},
   "outputs": [
    {
     "name": "stdout",
     "output_type": "stream",
     "text": [
      "They\n"
     ]
    }
   ],
   "source": [
    "a = 'They are running away'\n",
    "x = lambda s : s.split()[0]\n",
    "print(x(a))"
   ]
  },
  {
   "cell_type": "markdown",
   "id": "76b3eb71",
   "metadata": {},
   "source": [
    "Q.2 Write a function to extract first word of s string (with many words separated by space).\n"
   ]
  },
  {
   "cell_type": "code",
   "execution_count": 18,
   "id": "3abb62ac",
   "metadata": {},
   "outputs": [
    {
     "name": "stdout",
     "output_type": "stream",
     "text": [
      "The\n"
     ]
    }
   ],
   "source": [
    "a = \"The quick brown fox jumps over the lazy dog\"\n",
    "def func(s):\n",
    "  return s.split()[0]\n",
    "print(func(a))"
   ]
  },
  {
   "cell_type": "markdown",
   "id": "c2817662",
   "metadata": {},
   "source": [
    "Q.3 Extract the first word from every string from a list of strings by using map function."
   ]
  },
  {
   "cell_type": "code",
   "execution_count": 19,
   "id": "d407f968",
   "metadata": {},
   "outputs": [
    {
     "data": {
      "text/plain": [
       "['Iron', 'Captain', 'Doctor']"
      ]
     },
     "execution_count": 19,
     "metadata": {},
     "output_type": "execute_result"
    }
   ],
   "source": [
    "def func(s):\n",
    "  return s.split()[0]\n",
    "l = ['Iron Man', 'Captain America', 'Doctor Strange']\n",
    "list(map(func,l))"
   ]
  },
  {
   "cell_type": "markdown",
   "id": "71849e5a",
   "metadata": {},
   "source": [
    "Q.4 Write a function to return a list of prime factors of a given number"
   ]
  },
  {
   "cell_type": "code",
   "execution_count": 20,
   "id": "64045d25",
   "metadata": {},
   "outputs": [
    {
     "name": "stdout",
     "output_type": "stream",
     "text": [
      "1098\n",
      "[2, 3, 61]\n"
     ]
    }
   ],
   "source": [
    "def func(n):\n",
    "  out= []\n",
    "  for i in range(2,n+1):\n",
    "    if n%i== 0:\n",
    "        count = 1\n",
    "        \n",
    "        for j in range(2,(i//2+1)):\n",
    "            if(i % j==0):\n",
    "                count = 0\n",
    "                break\n",
    "                \n",
    "        if count == 1:\n",
    "            out.append(i)\n",
    "            \n",
    "  print(out)\n",
    "n= int(input())\n",
    "func(n)"
   ]
  },
  {
   "cell_type": "markdown",
   "id": "3adb7a16",
   "metadata": {},
   "source": [
    "Q5. Write a function that finds 2nd largest among 4 numbers(Repetitions are allowed, without sorting)."
   ]
  },
  {
   "cell_type": "code",
   "execution_count": 21,
   "id": "016ee15b",
   "metadata": {},
   "outputs": [
    {
     "name": "stdout",
     "output_type": "stream",
     "text": [
      "10 20 20 40\n",
      "20\n"
     ]
    }
   ],
   "source": [
    "def larg_2(l1):\n",
    "    l1=list(set(l1))\n",
    "    l1.remove(max(l1))\n",
    "    print(max(l1))\n",
    "\n",
    "l1= list(map(int,input().strip().split()))[:4]\n",
    "larg_2(l1)\n"
   ]
  }
 ],
 "metadata": {
  "kernelspec": {
   "display_name": "Python 3",
   "language": "python",
   "name": "python3"
  },
  "language_info": {
   "codemirror_mode": {
    "name": "ipython",
    "version": 3
   },
   "file_extension": ".py",
   "mimetype": "text/x-python",
   "name": "python",
   "nbconvert_exporter": "python",
   "pygments_lexer": "ipython3",
   "version": "3.8.8"
  }
 },
 "nbformat": 4,
 "nbformat_minor": 5
}
